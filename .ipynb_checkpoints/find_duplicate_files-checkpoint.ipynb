{
 "cells": [
  {
   "cell_type": "code",
   "execution_count": 44,
   "metadata": {
    "collapsed": false
   },
   "outputs": [],
   "source": [
    "import os\n",
    "import datetime\n"
   ]
  },
  {
   "cell_type": "code",
   "execution_count": 48,
   "metadata": {
    "collapsed": false
   },
   "outputs": [],
   "source": [
    "pictures_path = os.path.join('C:\\\\','Users','Jaime','Pictures','Samsung s4')\n",
    "pictures_path2 = os.path.join('C:\\\\','Users','Jaime','Dropbox','Subidas desde cámara')\n",
    "\n",
    "pictures1 = os.listdir(pictures_path)\n",
    "pictures2 = os.listdir(pictures_path2)\n",
    "\n",
    "pict_size1 = []\n",
    "pict_size2 = []\n",
    "\n",
    "for x in pictures1:\n",
    "    try:\n",
    "        pict_size1.append([x, os.path.getsize(os.path.join(pictures_path,x))])\n",
    "    except:\n",
    "        pass\n",
    "for x in pictures2:\n",
    "    try:\n",
    "        pict_size2.append([x, os.path.getsize(os.path.join(pictures_path2,x))])\n",
    "    except:\n",
    "        pass\n",
    "\n",
    "#print(len(pict_size1))\n",
    "#print(pict_size1)\n",
    "\n",
    "#print(len(pict_size2))\n",
    "#print(pict_size2)\n",
    "\n",
    "equal_size_pictures = []\n",
    "for x in pict_size1:\n",
    "    for y in pict_size2:\n",
    "        if x[1] == y[1]:\n",
    "            equal_size_pictures.append([x[0],y[0],x[1]])\n",
    "\n",
    "#print(len(equal_size_pictures))            \n",
    "#print(equal_size_pictures)\n",
    "\n",
    "for x in equal_size_pictures:\n",
    "    print(os.path.join(pictures_path,x[0]))\n",
    "    #os.unlink(os.path.join(pictures_path,x[0]))\n"
   ]
  },
  {
   "cell_type": "code",
   "execution_count": 49,
   "metadata": {
    "collapsed": false
   },
   "outputs": [],
   "source": [
    "pic_dates1 = []\n",
    "pic_dates2 = []\n",
    "\n",
    "for x in pictures1:\n",
    "    try:\n",
    "        pic_dates1.append([x,datetime.datetime.strptime(x,'%Y%m%d_%H%M%S.jpg')])\n",
    "    except:\n",
    "        pass\n",
    "\n",
    "#print(pic_dates1)\n",
    "\n",
    "for x in pictures2:\n",
    "    try:\n",
    "        pic_dates2.append([x,datetime.datetime.strptime(x,'%Y-%m-%d %H.%M.%S.jpg')])\n",
    "    except:\n",
    "        pass\n",
    "\n",
    "#print(pic_dates2)\n",
    "\n",
    "equal_dates = []\n",
    "for x in pic_dates1:\n",
    "    for y in pic_dates2:\n",
    "        if x[1] == y[1]:\n",
    "            equal_dates.append([x,y])\n",
    "        \n",
    "\n",
    "#print(len(equal_dates))            \n",
    "#print(equal_dates)\n",
    "\n",
    "for x in equal_dates:\n",
    "    print(os.path.join(pictures_path,x[0][0]))\n",
    "#    os.unlink(os.path.join(pictures_path,x[0][0]))"
   ]
  },
  {
   "cell_type": "code",
   "execution_count": 51,
   "metadata": {
    "collapsed": false
   },
   "outputs": [
    {
     "name": "stdout",
     "output_type": "stream",
     "text": [
      "C:\\Users\\Jaime\\Pictures\\Samsung s4\\20150211_092631.jpg\n",
      "C:\\Users\\Jaime\\Pictures\\Samsung s4\\20150516_172132.jpg\n",
      "C:\\Users\\Jaime\\Pictures\\Samsung s4\\20150629_202924.jpg\n"
     ]
    }
   ],
   "source": [
    "for x in pic_dates1:\n",
    "    for y in pic_dates2:\n",
    "        if (x[1] - y[1]).seconds < 2:\n",
    "            #print(x)\n",
    "            #print(y)\n",
    "            print(os.path.join(pictures_path,x[0]))\n",
    "            os.unlink(os.path.join(pictures_path,x[0]))\n",
    "            "
   ]
  },
  {
   "cell_type": "code",
   "execution_count": null,
   "metadata": {
    "collapsed": true
   },
   "outputs": [],
   "source": []
  },
  {
   "cell_type": "code",
   "execution_count": null,
   "metadata": {
    "collapsed": true
   },
   "outputs": [],
   "source": []
  },
  {
   "cell_type": "code",
   "execution_count": null,
   "metadata": {
    "collapsed": true
   },
   "outputs": [],
   "source": []
  }
 ],
 "metadata": {
  "kernelspec": {
   "display_name": "Python 3",
   "language": "python",
   "name": "python3"
  },
  "language_info": {
   "codemirror_mode": {
    "name": "ipython",
    "version": 3
   },
   "file_extension": ".py",
   "mimetype": "text/x-python",
   "name": "python",
   "nbconvert_exporter": "python",
   "pygments_lexer": "ipython3",
   "version": "3.4.3"
  }
 },
 "nbformat": 4,
 "nbformat_minor": 0
}
